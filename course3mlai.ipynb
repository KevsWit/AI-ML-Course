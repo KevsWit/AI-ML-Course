{
  "nbformat": 4,
  "nbformat_minor": 0,
  "metadata": {
    "colab": {
      "provenance": []
    },
    "kernelspec": {
      "name": "python3",
      "display_name": "Python 3"
    },
    "language_info": {
      "name": "python"
    }
  },
  "cells": [
    {
      "cell_type": "code",
      "execution_count": 9,
      "metadata": {
        "colab": {
          "base_uri": "https://localhost:8080/"
        },
        "id": "mPlV4xDZFD_p",
        "outputId": "675e8219-86cd-486f-9f78-1e151cba9ce6"
      },
      "outputs": [
        {
          "output_type": "stream",
          "name": "stdout",
          "text": [
            "=== Random Forest - Evaluación Inicial ===\n",
            "Accuracy: 0.9697\n",
            "Classification Report:\n",
            "              precision    recall  f1-score   support\n",
            "\n",
            "           0       1.00      0.80      0.89         5\n",
            "           1       0.96      1.00      0.98        23\n",
            "           2       1.00      1.00      1.00         5\n",
            "\n",
            "    accuracy                           0.97        33\n",
            "   macro avg       0.99      0.93      0.96        33\n",
            "weighted avg       0.97      0.97      0.97        33\n",
            "\n",
            "Tiempo de inferencia (entrenamiento + predicción): 0.15 segundos\n"
          ]
        }
      ],
      "source": [
        "# Paso 1: Cargar librerías\n",
        "import pandas as pd\n",
        "from sklearn.model_selection import train_test_split\n",
        "from sklearn.preprocessing import LabelEncoder\n",
        "from sklearn.ensemble import RandomForestClassifier\n",
        "from sklearn.metrics import classification_report, accuracy_score\n",
        "import time\n",
        "\n",
        "# Paso 2: Cargar nuevo dataset\n",
        "df = pd.read_csv(\"Credit Score Classification Dataset.csv\")  # asegúrate de subirlo a Colab\n",
        "\n",
        "# Paso 3: Preprocesamiento\n",
        "label_encoders = {}\n",
        "for col in df.select_dtypes(include=\"object\").columns:\n",
        "    le = LabelEncoder()\n",
        "    df[col] = le.fit_transform(df[col])\n",
        "    label_encoders[col] = le\n",
        "\n",
        "# Variables predictoras y objetivo\n",
        "X = df.drop(\"Credit Score\", axis=1)\n",
        "y = df[\"Credit Score\"]\n",
        "\n",
        "# Dividir en entrenamiento y prueba\n",
        "X_train, X_test, y_train, y_test = train_test_split(X, y, test_size=0.2, random_state=42)\n",
        "\n",
        "\n",
        "# Paso 4: Entrenar modelo base (Random Forest)\n",
        "model = RandomForestClassifier(random_state=42)\n",
        "\n",
        "start_time = time.time()\n",
        "model.fit(X_train, y_train)\n",
        "inference_time = time.time() - start_time\n",
        "\n",
        "# Paso 5: Evaluación del modelo\n",
        "y_pred = model.predict(X_test)\n",
        "\n",
        "print(\"=== Random Forest - Evaluación Inicial ===\")\n",
        "print(f\"Accuracy: {accuracy_score(y_test, y_pred):.4f}\")\n",
        "print(\"Classification Report:\")\n",
        "print(classification_report(y_test, y_pred))\n",
        "print(f\"Tiempo de inferencia (entrenamiento + predicción): {inference_time:.2f} segundos\")\n"
      ]
    },
    {
      "cell_type": "code",
      "source": [
        "# Paso 3.1: Feature Selection\n",
        "from sklearn.feature_selection import SelectKBest, chi2\n",
        "\n",
        "# Aplicamos SelectKBest para seleccionar las 8 mejores características\n",
        "selector = SelectKBest(score_func=chi2, k=8)\n",
        "X_train_selected = selector.fit_transform(X_train, y_train)\n",
        "X_test_selected = selector.transform(X_test)\n",
        "\n",
        "# Guardar los nombres de las columnas seleccionadas\n",
        "selected_features = X_train.columns[selector.get_support()]\n",
        "print(\"Características seleccionadas:\", list(selected_features))\n",
        "\n",
        "# Entrenamos el modelo con características seleccionadas\n",
        "model_selected = RandomForestClassifier(random_state=42)\n",
        "\n",
        "start_time = time.time()\n",
        "model_selected.fit(X_train_selected, y_train)\n",
        "inference_time_selected = time.time() - start_time\n",
        "\n",
        "# Evaluación\n",
        "y_pred_selected = model_selected.predict(X_test_selected)\n",
        "\n",
        "print(\"\\n=== Random Forest con Feature Selection ===\")\n",
        "print(f\"Accuracy: {accuracy_score(y_test, y_pred_selected):.4f}\")\n",
        "print(\"Classification Report:\")\n",
        "print(classification_report(y_test, y_pred_selected))\n",
        "print(f\"Tiempo de inferencia (modelo optimizado): {inference_time_selected:.2f} segundos\")\n"
      ],
      "metadata": {
        "colab": {
          "base_uri": "https://localhost:8080/"
        },
        "id": "up8OqyTwIIzj",
        "outputId": "e1a3ad11-a05d-4f67-eeea-5973375ee083"
      },
      "execution_count": 10,
      "outputs": [
        {
          "output_type": "stream",
          "name": "stdout",
          "text": [
            "Características seleccionadas: ['Age', 'Gender', 'Income', 'Education', 'Marital Status', 'Number of Children', 'Home Ownership']\n",
            "\n",
            "=== Random Forest con Feature Selection ===\n",
            "Accuracy: 0.9697\n",
            "Classification Report:\n",
            "              precision    recall  f1-score   support\n",
            "\n",
            "           0       1.00      0.80      0.89         5\n",
            "           1       0.96      1.00      0.98        23\n",
            "           2       1.00      1.00      1.00         5\n",
            "\n",
            "    accuracy                           0.97        33\n",
            "   macro avg       0.99      0.93      0.96        33\n",
            "weighted avg       0.97      0.97      0.97        33\n",
            "\n",
            "Tiempo de inferencia (modelo optimizado): 0.14 segundos\n"
          ]
        },
        {
          "output_type": "stream",
          "name": "stderr",
          "text": [
            "/usr/local/lib/python3.11/dist-packages/sklearn/feature_selection/_univariate_selection.py:783: UserWarning: k=8 is greater than n_features=7. All the features will be returned.\n",
            "  warnings.warn(\n"
          ]
        }
      ]
    },
    {
      "cell_type": "code",
      "source": [
        "# Paso 3.2: Model Pruning\n",
        "model_pruned = RandomForestClassifier(\n",
        "    n_estimators=50,        # menos árboles\n",
        "    max_depth=5,            # limitar la profundidad\n",
        "    min_samples_split=10,   # mínimo para dividir\n",
        "    min_samples_leaf=5,     # hojas más grandes\n",
        "    random_state=42\n",
        ")\n",
        "\n",
        "start_time = time.time()\n",
        "model_pruned.fit(X_train_selected, y_train)  # usamos las features seleccionadas\n",
        "inference_time_pruned = time.time() - start_time\n",
        "\n",
        "# Evaluación del modelo podado\n",
        "y_pred_pruned = model_pruned.predict(X_test_selected)\n",
        "\n",
        "print(\"\\n=== Random Forest Podado (Pruning) ===\")\n",
        "print(f\"Accuracy: {accuracy_score(y_test, y_pred_pruned):.4f}\")\n",
        "print(\"Classification Report:\")\n",
        "print(classification_report(y_test, y_pred_pruned))\n",
        "print(f\"Tiempo de inferencia (modelo podado): {inference_time_pruned:.2f} segundos\")\n"
      ],
      "metadata": {
        "colab": {
          "base_uri": "https://localhost:8080/"
        },
        "id": "4X7koivKIb89",
        "outputId": "5e0cddbf-4fa8-4422-a6e9-52765671c61d"
      },
      "execution_count": 11,
      "outputs": [
        {
          "output_type": "stream",
          "name": "stdout",
          "text": [
            "\n",
            "=== Random Forest Podado (Pruning) ===\n",
            "Accuracy: 0.9091\n",
            "Classification Report:\n",
            "              precision    recall  f1-score   support\n",
            "\n",
            "           0       0.67      0.80      0.73         5\n",
            "           1       0.95      0.91      0.93        23\n",
            "           2       1.00      1.00      1.00         5\n",
            "\n",
            "    accuracy                           0.91        33\n",
            "   macro avg       0.87      0.90      0.89        33\n",
            "weighted avg       0.92      0.91      0.91        33\n",
            "\n",
            "Tiempo de inferencia (modelo podado): 0.08 segundos\n"
          ]
        }
      ]
    },
    {
      "cell_type": "code",
      "source": [
        "# Paso 3.3: Simulación de Quantization usando un modelo más ligero\n",
        "from sklearn.tree import DecisionTreeClassifier\n",
        "\n",
        "model_lightweight = DecisionTreeClassifier(\n",
        "    max_depth=4,           # limitamos profundidad\n",
        "    min_samples_leaf=5,    # hojas más grandes\n",
        "    random_state=42\n",
        ")\n",
        "\n",
        "start_time = time.time()\n",
        "model_lightweight.fit(X_train_selected, y_train)\n",
        "inference_time_lightweight = time.time() - start_time\n",
        "\n",
        "# Evaluación del modelo liviano\n",
        "y_pred_lightweight = model_lightweight.predict(X_test_selected)\n",
        "\n",
        "print(\"\\n=== Árbol de Decisión (Modelo Liviano / Quantized) ===\")\n",
        "print(f\"Accuracy: {accuracy_score(y_test, y_pred_lightweight):.4f}\")\n",
        "print(\"Classification Report:\")\n",
        "print(classification_report(y_test, y_pred_lightweight))\n",
        "print(f\"Tiempo de inferencia (modelo liviano): {inference_time_lightweight:.2f} segundos\")\n"
      ],
      "metadata": {
        "colab": {
          "base_uri": "https://localhost:8080/"
        },
        "id": "_EVWK_U-Idqd",
        "outputId": "d5428d66-1c7b-4286-8763-0d12b73bc0a1"
      },
      "execution_count": 12,
      "outputs": [
        {
          "output_type": "stream",
          "name": "stdout",
          "text": [
            "\n",
            "=== Árbol de Decisión (Modelo Liviano / Quantized) ===\n",
            "Accuracy: 0.9091\n",
            "Classification Report:\n",
            "              precision    recall  f1-score   support\n",
            "\n",
            "           0       0.67      0.80      0.73         5\n",
            "           1       0.95      0.91      0.93        23\n",
            "           2       1.00      1.00      1.00         5\n",
            "\n",
            "    accuracy                           0.91        33\n",
            "   macro avg       0.87      0.90      0.89        33\n",
            "weighted avg       0.92      0.91      0.91        33\n",
            "\n",
            "Tiempo de inferencia (modelo liviano): 0.00 segundos\n"
          ]
        }
      ]
    },
    {
      "cell_type": "code",
      "source": [
        "import numpy as np\n",
        "import time\n",
        "\n",
        "# Paso 4: Stress Testing (simulamos 5000 predicciones)\n",
        "stress_inputs = np.tile(X_test_selected, (200, 1))  # 200 repeticiones = ~5000 inputs\n",
        "stress_outputs = []\n",
        "\n",
        "start_time = time.time()\n",
        "for row in stress_inputs:\n",
        "    stress_outputs.append(model_lightweight.predict([row])[0])\n",
        "stress_duration = time.time() - start_time\n",
        "\n",
        "print(\"=== Stress Testing (Modelo Liviano) ===\")\n",
        "print(f\"Total de predicciones: {len(stress_outputs)}\")\n",
        "print(f\"Tiempo total: {stress_duration:.2f} segundos\")\n",
        "print(f\"Tiempo promedio por predicción: {stress_duration / len(stress_outputs):.4f} segundos\")\n"
      ],
      "metadata": {
        "colab": {
          "base_uri": "https://localhost:8080/"
        },
        "id": "-h_bJS-MIph-",
        "outputId": "51ff6f2d-294e-4dc6-ce0b-66275bb410fd"
      },
      "execution_count": 13,
      "outputs": [
        {
          "output_type": "stream",
          "name": "stdout",
          "text": [
            "=== Stress Testing (Modelo Liviano) ===\n",
            "Total de predicciones: 6600\n",
            "Tiempo total: 1.20 segundos\n",
            "Tiempo promedio por predicción: 0.0002 segundos\n"
          ]
        }
      ]
    },
    {
      "cell_type": "code",
      "source": [
        "import matplotlib.pyplot as plt\n",
        "\n",
        "# Supongamos que estas son las precisiones reales de tus modelos\n",
        "model_names = [\"Base RF\", \"FS + RF\", \"Pruned RF\", \"Lightweight Tree\"]\n",
        "accuracies = [\n",
        "    accuracy_score(y_test, model.predict(X_test)),\n",
        "    accuracy_score(y_test, model_selected.predict(X_test_selected)),\n",
        "    accuracy_score(y_test, model_pruned.predict(X_test_selected)),\n",
        "    accuracy_score(y_test, model_lightweight.predict(X_test_selected)),\n",
        "]\n",
        "inference_times = [\n",
        "    inference_time,\n",
        "    inference_time_selected,\n",
        "    inference_time_pruned,\n",
        "    inference_time_lightweight,\n",
        "]\n",
        "\n",
        "# Gráfico de comparación\n",
        "plt.figure(figsize=(10, 5))\n",
        "plt.plot(model_names, accuracies, marker=\"o\", label=\"Accuracy\")\n",
        "plt.plot(model_names, inference_times, marker=\"s\", label=\"Inference Time (s)\")\n",
        "plt.title(\"Trade-off entre Precisión y Tiempo\")\n",
        "plt.ylabel(\"Valor\")\n",
        "plt.legend()\n",
        "plt.grid(True)\n",
        "plt.show()\n"
      ],
      "metadata": {
        "colab": {
          "base_uri": "https://localhost:8080/",
          "height": 468
        },
        "id": "NkcGPC7wI0uP",
        "outputId": "cef32548-46c9-4bbc-de25-59e74f2a3a14"
      },
      "execution_count": 14,
      "outputs": [
        {
          "output_type": "display_data",
          "data": {
            "text/plain": [
              "<Figure size 1000x500 with 1 Axes>"
            ],
            "image/png": "[encoded data removed]"
          },
          "metadata": {}
        }
      ]
    }
  ]
}